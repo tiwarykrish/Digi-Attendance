{
 "cells": [
  {
   "cell_type": "code",
   "execution_count": 1,
   "id": "a42f72a1",
   "metadata": {},
   "outputs": [
    {
     "name": "stdout",
     "output_type": "stream",
     "text": [
      "['krish tiwary.jpg', 'Mamidi Ashish Kumar.png', 'Preetham Rajnesh.jpg', 'rimsha jariya.jpg']\n",
      "['krish tiwary', 'Mamidi Ashish Kumar', 'Preetham Rajnesh', 'rimsha jariya']\n",
      "encodings complete\n"
     ]
    },
    {
     "ename": "error",
     "evalue": "OpenCV(4.5.4) D:\\a\\opencv-python\\opencv-python\\opencv\\modules\\highgui\\src\\window.cpp:1274: error: (-2:Unspecified error) The function is not implemented. Rebuild the library with Windows, GTK+ 2.x or Cocoa support. If you are on Ubuntu or Debian, install libgtk2.0-dev and pkg-config, then re-run cmake or configure script in function 'cvShowImage'\n",
     "output_type": "error",
     "traceback": [
      "\u001b[1;31m---------------------------------------------------------------------------\u001b[0m",
      "\u001b[1;31merror\u001b[0m                                     Traceback (most recent call last)",
      "Cell \u001b[1;32mIn[1], line 94\u001b[0m\n\u001b[0;32m     90\u001b[0m             helper\u001b[38;5;241m=\u001b[39m DBhelper()\n\u001b[0;32m     91\u001b[0m             helper\u001b[38;5;241m.\u001b[39minsert_user(name,now\u001b[38;5;241m.\u001b[39mstrftime(\u001b[38;5;124m\"\u001b[39m\u001b[38;5;124m%\u001b[39m\u001b[38;5;124mY:\u001b[39m\u001b[38;5;124m%\u001b[39m\u001b[38;5;124mm:\u001b[39m\u001b[38;5;132;01m%d\u001b[39;00m\u001b[38;5;124m \u001b[39m\u001b[38;5;124m%\u001b[39m\u001b[38;5;124mH:\u001b[39m\u001b[38;5;124m%\u001b[39m\u001b[38;5;124mM:\u001b[39m\u001b[38;5;124m%\u001b[39m\u001b[38;5;124mS\u001b[39m\u001b[38;5;124m\"\u001b[39m))\n\u001b[1;32m---> 94\u001b[0m \u001b[43mcv2\u001b[49m\u001b[38;5;241;43m.\u001b[39;49m\u001b[43mimshow\u001b[49m\u001b[43m(\u001b[49m\u001b[38;5;124;43m\"\u001b[39;49m\u001b[38;5;124;43mout\u001b[39;49m\u001b[38;5;124;43m\"\u001b[39;49m\u001b[43m,\u001b[49m\u001b[43m \u001b[49m\u001b[43mimg\u001b[49m\u001b[43m)\u001b[49m\n\u001b[0;32m     95\u001b[0m \u001b[38;5;28;01mif\u001b[39;00m cv2\u001b[38;5;241m.\u001b[39mwaitKey(\u001b[38;5;241m1\u001b[39m) \u001b[38;5;241m&\u001b[39m \u001b[38;5;241m0xff\u001b[39m \u001b[38;5;241m==\u001b[39m\u001b[38;5;28mord\u001b[39m(\u001b[38;5;124m'\u001b[39m\u001b[38;5;124mq\u001b[39m\u001b[38;5;124m'\u001b[39m):\n\u001b[0;32m     96\u001b[0m     \u001b[38;5;28;01mbreak\u001b[39;00m\n",
      "\u001b[1;31merror\u001b[0m: OpenCV(4.5.4) D:\\a\\opencv-python\\opencv-python\\opencv\\modules\\highgui\\src\\window.cpp:1274: error: (-2:Unspecified error) The function is not implemented. Rebuild the library with Windows, GTK+ 2.x or Cocoa support. If you are on Ubuntu or Debian, install libgtk2.0-dev and pkg-config, then re-run cmake or configure script in function 'cvShowImage'\n"
     ]
    }
   ],
   "source": [
    "import os\n",
    "import cv2\n",
    "import face_recognition\n",
    "import numpy as np\n",
    "import datetime\n",
    "now = datetime.datetime.now()\n",
    "\n",
    "\n",
    "\n",
    "import mysql.connector as connector\n",
    "\n",
    "class DBhelper:\n",
    "    def __init__(self):\n",
    "        self.con = connector.connect(host='localhost', port='3306', user='root', password='ashu', database='attendence')\n",
    "        query = 'create table if not exists user(username varchar(50),login_time TIMESTAMP)'\n",
    "        cur=self.con.cursor()\n",
    "        cur.execute(query)\n",
    "        print(\"created\")\n",
    "    def insert_user(self,username, login_time):\n",
    "        query=\"insert into user(username, login_time) values('{}','{}')\".format(username,login_time) \n",
    "        cur=self.con.cursor()\n",
    "        cur.execute(query)\n",
    "        self.con.commit()\n",
    "        print(\"data is inserted!!!!\")\n",
    "\n",
    "\n",
    "\n",
    "\n",
    "path = \"Resources/images\"\n",
    "images = []\n",
    "images_names = []\n",
    "count = 0\n",
    "imagespath = os.listdir(path)\n",
    "print(imagespath)\n",
    "for img in imagespath:\n",
    "    current_img = cv2.imread(f'{path}/{img}')\n",
    "    images.append(current_img)\n",
    "    images_names.append(os.path.splitext(img)[0])\n",
    "print(images_names)\n",
    "\n",
    "def Get_Attendance(Names):\n",
    "    count = 0\n",
    "    with open('Excel3.csv','r+') as E:\n",
    "        Data = E.readlines()\n",
    "        names = []\n",
    "        for line in Data:\n",
    "            entry = line.split(',')\n",
    "            names.append(entry[0])\n",
    "            if count == 0:\n",
    "                now = datetime.datetime.now()\n",
    "                datestr = now.strftime('%H:%M')\n",
    "                E.writelines(f'\\n{Names},{datestr}')\n",
    "                count += 1\n",
    "\n",
    "def findEncodings(images):\n",
    "    encodelist = []\n",
    "    for IMAGES in images:\n",
    "        IMAGES = cv2.cvtColor(IMAGES,cv2.COLOR_BGR2RGB)\n",
    "        faceEnc = face_recognition.face_encodings(IMAGES)[0]\n",
    "        encodelist.append(faceEnc)\n",
    "    return encodelist\n",
    "\n",
    "Encodelistknown = findEncodings(images)\n",
    "\n",
    "print(\"encodings complete\")\n",
    "\n",
    "cap = cv2.VideoCapture(0)\n",
    "NAMES = []\n",
    "\n",
    "while True:\n",
    "    success, img = cap.read()\n",
    "    imgs = cv2.cvtColor(img,cv2.COLOR_BGR2RGB)\n",
    "    facecurrentframe = face_recognition.face_locations(imgs)\n",
    "    facecurrentenc = face_recognition.face_encodings(imgs,facecurrentframe)\n",
    "    for faceloc,faceENC in zip(facecurrentframe,facecurrentenc):\n",
    "        match = face_recognition.compare_faces(Encodelistknown,faceENC)\n",
    "        dis = face_recognition.face_distance(Encodelistknown,faceENC)\n",
    "        print(match)\n",
    "    #cv2.rectangle(img,(facecurrentframe[3],facecurrentframe[0]),(facecurrentframe[1],facecurrentframe[2]),(0,0,255),3)\n",
    "        match_index = np.argmin(dis)\n",
    "        if match[match_index]:\n",
    "            name = images_names[match_index].upper()\n",
    "            y1,x2,x1,y2 = faceloc\n",
    "            cv2.rectangle(img,(x1,y1),(x2,y2),(0,0,255),1)\n",
    "            cv2.putText(img,name,(x1,y1-5),cv2.FONT_HERSHEY_COMPLEX_SMALL,1,(0,255,0),2)\n",
    "            print(name)\n",
    "            while(name not in NAMES):\n",
    "                NAMES.append(name)\n",
    "                Get_Attendance(name)\n",
    "                helper= DBhelper()\n",
    "                helper.insert_user(name,now.strftime(\"%Y:%m:%d %H:%M:%S\"))\n",
    "\n",
    "\n",
    "    cv2.imshow(\"out\", img)\n",
    "    if cv2.waitKey(1) & 0xff ==ord('q'):\n",
    "        break\n",
    "\n",
    "\n",
    "\n"
   ]
  },
  {
   "cell_type": "code",
   "execution_count": null,
   "id": "572b5ec2",
   "metadata": {},
   "outputs": [],
   "source": [
    "!pip uninstall opencv-python \n"
   ]
  },
  {
   "cell_type": "code",
   "execution_count": null,
   "id": "c8f6e852",
   "metadata": {},
   "outputs": [],
   "source": [
    "pip install face_recognition\n"
   ]
  },
  {
   "cell_type": "code",
   "execution_count": 2,
   "id": "15661505",
   "metadata": {},
   "outputs": [
    {
     "name": "stdout",
     "output_type": "stream",
     "text": [
      "Microsoft Windows [Version 10.0.22000.1696]\n",
      "(c) Microsoft Corporation. All rights reserved.\n",
      "\n",
      "(my_env) C:\\Users\\kumar\\PycharmProjects\\opevcv-Chapter 1>where python\n",
      "C:\\Users\\kumar\\anaconda3\\envs\\my_env\\python.exe\n",
      "C:\\Users\\kumar\\OneDrive\\Desktop\\python.exe\n",
      "\n",
      "(my_env) C:\\Users\\kumar\\PycharmProjects\\opevcv-Chapter 1>"
     ]
    }
   ],
   "source": [
    "%%cmd\n",
    "where python\n"
   ]
  },
  {
   "cell_type": "code",
   "execution_count": 4,
   "id": "e2c8ec14",
   "metadata": {},
   "outputs": [
    {
     "name": "stdout",
     "output_type": "stream",
     "text": [
      "Microsoft Windows [Version 10.0.22000.1696]\n",
      "(c) Microsoft Corporation. All rights reserved.\n",
      "\n",
      "(base) C:\\Users\\kumar\\PycharmProjects\\opevcv-Chapter 1>pip install face-recognition\n",
      "Collecting face-recognition\n",
      "  Using cached face_recognition-1.3.0-py2.py3-none-any.whl (15 kB)\n",
      "Requirement already satisfied: Click>=6.0 in c:\\users\\kumar\\anaconda3\\lib\\site-packages (from face-recognition) (8.0.4)\n",
      "Requirement already satisfied: Pillow in c:\\users\\kumar\\anaconda3\\lib\\site-packages (from face-recognition) (9.4.0)\n",
      "Collecting dlib>=19.7\n",
      "  Using cached dlib-19.24.1.tar.gz (3.2 MB)\n",
      "  Preparing metadata (setup.py): started\n",
      "  Preparing metadata (setup.py): finished with status 'done'\n",
      "Requirement already satisfied: numpy in c:\\users\\kumar\\anaconda3\\lib\\site-packages (from face-recognition) (1.23.5)\n",
      "Requirement already satisfied: face-recognition-models>=0.3.0 in c:\\users\\kumar\\anaconda3\\lib\\site-packages (from face-recognition) (0.3.0)\n",
      "Requirement already satisfied: colorama in c:\\users\\kumar\\anaconda3\\lib\\site-packages (from Click>=6.0->face-recognition) (0.4.6)\n",
      "Building wheels for collected packages: dlib\n",
      "  Building wheel for dlib (setup.py): started\n",
      "  Building wheel for dlib (setup.py): finished with status 'error'\n"
     ]
    },
    {
     "name": "stderr",
     "output_type": "stream",
     "text": [
      "  error: subprocess-exited-with-error\n",
      "  \n",
      "  python setup.py bdist_wheel did not run successfully.\n",
      "  exit code: 1\n",
      "  \n",
      "  [7 lines of output]\n",
      "  running bdist_wheel\n",
      "  running build\n",
      "  running build_py\n",
      "  running build_ext\n",
      "  \n",
      "  ERROR: CMake must be installed to build dlib\n",
      "  \n",
      "  [end of output]\n",
      "  \n",
      "  note: This error originates from a subprocess, and is likely not a problem with pip.\n"
     ]
    },
    {
     "name": "stdout",
     "output_type": "stream",
     "text": [
      "  Running setup.py clean for dlib\r\n"
     ]
    },
    {
     "name": "stderr",
     "output_type": "stream",
     "text": [
      "  ERROR: Failed building wheel for dlib\r\n"
     ]
    },
    {
     "name": "stdout",
     "output_type": "stream",
     "text": [
      "Failed to build dlib\n",
      "Installing collected packages: dlib, face-recognition\n",
      "  Running setup.py install for dlib: started\n",
      "  Running setup.py install for dlib: finished with status 'error'\n"
     ]
    },
    {
     "name": "stderr",
     "output_type": "stream",
     "text": [
      "  error: subprocess-exited-with-error\n",
      "  \n",
      "  Running setup.py install for dlib did not run successfully.\n",
      "  exit code: 1\n",
      "  \n",
      "  [9 lines of output]\n",
      "  running install\n",
      "  C:\\Users\\kumar\\anaconda3\\lib\\site-packages\\setuptools\\command\\install.py:34: SetuptoolsDeprecationWarning: setup.py install is deprecated. Use build and pip and other standards-based tools.\n",
      "    warnings.warn(\n",
      "  running build\n",
      "  running build_py\n",
      "  running build_ext\n",
      "  \n",
      "  ERROR: CMake must be installed to build dlib\n",
      "  \n",
      "  [end of output]\n",
      "  \n",
      "  note: This error originates from a subprocess, and is likely not a problem with pip.\n",
      "error: legacy-install-failure\n",
      "\n",
      "Encountered error while trying to install package.\n",
      "\n",
      "dlib\n",
      "\n",
      "note: This is an issue with the package mentioned above, not pip.\n",
      "hint: See above for output from the failure.\n"
     ]
    },
    {
     "name": "stdout",
     "output_type": "stream",
     "text": [
      "\n",
      "(base) C:\\Users\\kumar\\PycharmProjects\\opevcv-Chapter 1>"
     ]
    }
   ],
   "source": [
    "%%cmd\n",
    "pip install face-recognition"
   ]
  },
  {
   "cell_type": "code",
   "execution_count": 5,
   "id": "d0a786bd",
   "metadata": {},
   "outputs": [
    {
     "name": "stdout",
     "output_type": "stream",
     "text": [
      "Microsoft Windows [Version 10.0.22000.1696]\n",
      "(c) Microsoft Corporation. All rights reserved.\n",
      "\n",
      "(my_env) C:\\Users\\kumar\\PycharmProjects\\opevcv-Chapter 1>pip install cmake\n",
      "Collecting cmake\n",
      "  Using cached cmake-3.26.1-py2.py3-none-win_amd64.whl (33.0 MB)\n",
      "Installing collected packages: cmake\n",
      "Successfully installed cmake-3.26.1\n",
      "\n",
      "(my_env) C:\\Users\\kumar\\PycharmProjects\\opevcv-Chapter 1>"
     ]
    }
   ],
   "source": [
    "%%cmd\n",
    "pip install cmake"
   ]
  },
  {
   "cell_type": "code",
   "execution_count": 3,
   "id": "3480a3b5",
   "metadata": {},
   "outputs": [
    {
     "name": "stdout",
     "output_type": "stream",
     "text": [
      "Microsoft Windows [Version 10.0.22000.1696]\n",
      "(c) Microsoft Corporation. All rights reserved.\n",
      "\n",
      "(my_env) C:\\Users\\kumar\\PycharmProjects\\opevcv-Chapter 1>python --version\n",
      "Python 3.11.2\n",
      "\n",
      "(my_env) C:\\Users\\kumar\\PycharmProjects\\opevcv-Chapter 1>"
     ]
    }
   ],
   "source": [
    "%%cmd"
   ]
  },
  {
   "cell_type": "code",
   "execution_count": 11,
   "id": "7483aa24",
   "metadata": {},
   "outputs": [
    {
     "name": "stdout",
     "output_type": "stream",
     "text": [
      "Microsoft Windows [Version 10.0.22000.1696]\n",
      "(c) Microsoft Corporation. All rights reserved.\n",
      "\n",
      "(my_env) C:\\Users\\kumar\\PycharmProjects\\opevcv-Chapter 1>pip install \"C:\\Users\\kumar\\Downloads\\Dlib-python whl packages\\Dlib-python whl packages\\dlib-19.22.99-cp310-cp310-win_amd64.whl\" \n"
     ]
    },
    {
     "name": "stderr",
     "output_type": "stream",
     "text": [
      "ERROR: dlib-19.22.99-cp310-cp310-win_amd64.whl is not a supported wheel on this platform.\r\n"
     ]
    },
    {
     "name": "stdout",
     "output_type": "stream",
     "text": [
      "\n",
      "(my_env) C:\\Users\\kumar\\PycharmProjects\\opevcv-Chapter 1>"
     ]
    }
   ],
   "source": [
    "%%cmd \n",
    "pip install \"C:\\Users\\kumar\\Downloads\\Dlib-python whl packages\\Dlib-python whl packages\\dlib-19.22.99-cp310-cp310-win_amd64.whl\" "
   ]
  },
  {
   "cell_type": "code",
   "execution_count": 8,
   "id": "a3a1c419",
   "metadata": {},
   "outputs": [
    {
     "name": "stdout",
     "output_type": "stream",
     "text": [
      "Collecting face-recognition\n",
      "  Using cached face_recognition-1.3.0-py2.py3-none-any.whl (15 kB)\n",
      "Requirement already satisfied: Pillow in c:\\users\\kumar\\anaconda3\\lib\\site-packages (from face-recognition) (9.4.0)\n",
      "Requirement already satisfied: Click>=6.0 in c:\\users\\kumar\\anaconda3\\lib\\site-packages (from face-recognition) (8.0.4)\n",
      "Requirement already satisfied: numpy in c:\\users\\kumar\\anaconda3\\lib\\site-packages (from face-recognition) (1.23.5)\n",
      "Requirement already satisfied: face-recognition-models>=0.3.0 in c:\\users\\kumar\\anaconda3\\lib\\site-packages (from face-recognition) (0.3.0)\n",
      "Requirement already satisfied: dlib>=19.7 in c:\\users\\kumar\\anaconda3\\lib\\site-packages (from face-recognition) (19.22.99)\n",
      "Requirement already satisfied: colorama in c:\\users\\kumar\\anaconda3\\lib\\site-packages (from Click>=6.0->face-recognition) (0.4.6)\n",
      "Installing collected packages: face-recognition\n",
      "Successfully installed face-recognition-1.3.0\n",
      "Note: you may need to restart the kernel to use updated packages.\n"
     ]
    }
   ],
   "source": [
    "pip install face-recognition"
   ]
  },
  {
   "cell_type": "code",
   "execution_count": 9,
   "id": "b6778ea1",
   "metadata": {},
   "outputs": [
    {
     "name": "stderr",
     "output_type": "stream",
     "text": [
      "ERROR: Could not find a version that satisfies the requirement python (from versions: none)\n",
      "ERROR: No matching distribution found for python\n"
     ]
    }
   ],
   "source": []
  },
  {
   "cell_type": "code",
   "execution_count": null,
   "id": "5dd81441",
   "metadata": {},
   "outputs": [],
   "source": []
  }
 ],
 "metadata": {
  "kernelspec": {
   "display_name": "Python 3 (ipykernel)",
   "language": "python",
   "name": "python3"
  },
  "language_info": {
   "codemirror_mode": {
    "name": "ipython",
    "version": 3
   },
   "file_extension": ".py",
   "mimetype": "text/x-python",
   "name": "python",
   "nbconvert_exporter": "python",
   "pygments_lexer": "ipython3",
   "version": "3.10.9"
  }
 },
 "nbformat": 4,
 "nbformat_minor": 5
}
